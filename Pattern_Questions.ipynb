{
  "nbformat": 4,
  "nbformat_minor": 0,
  "metadata": {
    "colab": {
      "provenance": [],
      "authorship_tag": "ABX9TyO5cWL8R4/6pwXqWggnRr4T",
      "include_colab_link": true
    },
    "kernelspec": {
      "name": "python3",
      "display_name": "Python 3"
    },
    "language_info": {
      "name": "python"
    }
  },
  "cells": [
    {
      "cell_type": "markdown",
      "metadata": {
        "id": "view-in-github",
        "colab_type": "text"
      },
      "source": [
        "<a href=\"https://colab.research.google.com/github/AKASHPATI007/Pattern-Question/blob/main/Pattern_Questions.ipynb\" target=\"_parent\"><img src=\"https://colab.research.google.com/assets/colab-badge.svg\" alt=\"Open In Colab\"/></a>"
      ]
    },
    {
      "cell_type": "markdown",
      "source": [
        "**Pattern Questions Asked in Interviews**"
      ],
      "metadata": {
        "id": "TYdUMMLWfv9s"
      }
    },
    {
      "cell_type": "code",
      "execution_count": null,
      "metadata": {
        "colab": {
          "base_uri": "https://localhost:8080/"
        },
        "id": "yud9zNPDfEqa",
        "outputId": "e5718138-280f-4d0d-dc1b-daac4180c751"
      },
      "outputs": [
        {
          "output_type": "stream",
          "name": "stdout",
          "text": [
            "\n",
            "1 \n",
            "2 2 \n",
            "3 3 3 \n",
            "4 4 4 4 \n",
            "5 5 5 5 5 \n"
          ]
        }
      ],
      "source": [
        "#1. programs to print number pattern\n",
        "rows = 5\n",
        "for i in range(rows+1):\n",
        "    # nested loop\n",
        "    for j in range(i):\n",
        "        # display number\n",
        "        print(i, end=' ')\n",
        "    # new line after each row\n",
        "    print('')"
      ]
    },
    {
      "cell_type": "code",
      "source": [
        "#2.Pyramid pattern of numbers\n",
        "rows = 5\n",
        "for i in range(1, rows + 1):\n",
        "    for j in range(1, i + 1):\n",
        "        print(j, end=' ')\n",
        "    print('')"
      ],
      "metadata": {
        "colab": {
          "base_uri": "https://localhost:8080/"
        },
        "id": "WqFVlPyQgcOX",
        "outputId": "42571b12-62a3-40bc-e17b-5aa45a68a005"
      },
      "execution_count": null,
      "outputs": [
        {
          "output_type": "stream",
          "name": "stdout",
          "text": [
            "1 \n",
            "1 2 \n",
            "1 2 3 \n",
            "1 2 3 4 \n",
            "1 2 3 4 5 \n"
          ]
        }
      ]
    },
    {
      "cell_type": "code",
      "source": [
        "# 3. Inverted pyramid pattern of numbers\n",
        "\n",
        "rows = 5\n",
        "b = 0\n",
        "# reverse for loop from 5 to 0\n",
        "for i in range(rows, 0, -1):\n",
        "    b += 1\n",
        "    for j in range(1, i + 1):\n",
        "        print(b, end=' ')\n",
        "    print('\\n')"
      ],
      "metadata": {
        "colab": {
          "base_uri": "https://localhost:8080/"
        },
        "id": "2GNuJte6h1Xc",
        "outputId": "e4645aa4-470b-474e-8554-112e5b69796d"
      },
      "execution_count": null,
      "outputs": [
        {
          "output_type": "stream",
          "name": "stdout",
          "text": [
            "1 1 1 1 1 \n",
            "\n",
            "2 2 2 2 \n",
            "\n",
            "3 3 3 \n",
            "\n",
            "4 4 \n",
            "\n",
            "5 \n",
            "\n"
          ]
        }
      ]
    },
    {
      "cell_type": "code",
      "source": [
        "# 4. Inverted Pyramid pattern with the same digit\n",
        "\n",
        "rows = 5\n",
        "num = rows\n",
        "# reverse for loop\n",
        "for i in range(rows, 0, -1):\n",
        "    for j in range(0, i):\n",
        "        print(num, end=' ')\n",
        "    print(\"\\r\")"
      ],
      "metadata": {
        "colab": {
          "base_uri": "https://localhost:8080/"
        },
        "id": "VRxKhZ8IijzC",
        "outputId": "8d572ac0-f0f7-4979-9263-088e7e2abcec"
      },
      "execution_count": null,
      "outputs": [
        {
          "output_type": "stream",
          "name": "stdout",
          "text": [
            "5 5 5 5 5 \r\n",
            "5 5 5 5 \r\n",
            "5 5 5 \r\n",
            "5 5 \r\n",
            "5 \r\n"
          ]
        }
      ]
    },
    {
      "cell_type": "code",
      "source": [
        "# 5. Another inverted half pyramid pattern with number\n",
        "\n",
        "rows = 5\n",
        "for i in range(rows, 0, -1):\n",
        "    for j in range(0, i + 1):\n",
        "        print(j, end=' ')\n",
        "    print(\"\\r\")"
      ],
      "metadata": {
        "colab": {
          "base_uri": "https://localhost:8080/"
        },
        "id": "Q3slMlgsi7Q4",
        "outputId": "9d4a447e-0531-4246-dfad-35cc80f5c9c5"
      },
      "execution_count": null,
      "outputs": [
        {
          "output_type": "stream",
          "name": "stdout",
          "text": [
            "0 1 2 3 4 5 \r\n",
            "0 1 2 3 4 \r\n",
            "0 1 2 3 \r\n",
            "0 1 2 \r\n",
            "0 1 \r\n"
          ]
        }
      ]
    },
    {
      "cell_type": "code",
      "source": [
        "# 6. Alternate numbers pattern using while loop\n",
        "rows = 5\n",
        "i = 1\n",
        "while i <= rows:\n",
        "    j = 1\n",
        "    while j <= i:\n",
        "        print((i * 2 - 1), end=\" \")\n",
        "        j = j + 1\n",
        "    i = i + 1\n",
        "    print('')\n",
        "\n",
        "# OR\n",
        "\n",
        "#rows = 5\n",
        "#i = 1 \n",
        "#for i in range(rows):\n",
        "#  for j in range(i):\n",
        "#    print((i*2-1),end=' ')\n",
        "#  print()\n"
      ],
      "metadata": {
        "colab": {
          "base_uri": "https://localhost:8080/"
        },
        "id": "vFMB4TqsmWHm",
        "outputId": "302e1737-73c1-4600-ddc0-a7eabaabd52e"
      },
      "execution_count": null,
      "outputs": [
        {
          "output_type": "stream",
          "name": "stdout",
          "text": [
            "1 \n",
            "3 3 \n",
            "5 5 5 \n",
            "7 7 7 7 \n",
            "9 9 9 9 9 \n"
          ]
        }
      ]
    },
    {
      "cell_type": "code",
      "source": [
        "#7. Reverse number pattern\n",
        "\n",
        "rows = 5\n",
        "# reverse loop\n",
        "for i in range(rows, 0, -1):\n",
        "    num = i\n",
        "    for j in range(0, i):\n",
        "        print(num, end=' ')\n",
        "    print(\"\\r\")"
      ],
      "metadata": {
        "colab": {
          "base_uri": "https://localhost:8080/"
        },
        "id": "kQtA9RUAa63Y",
        "outputId": "0599f9ba-834d-497c-8ac1-cab0966dac87"
      },
      "execution_count": null,
      "outputs": [
        {
          "output_type": "stream",
          "name": "stdout",
          "text": [
            "5 5 5 5 5 \r\n",
            "4 4 4 4 \r\n",
            "3 3 3 \r\n",
            "2 2 \r\n",
            "1 \r\n"
          ]
        }
      ]
    },
    {
      "cell_type": "code",
      "source": [
        "#8. Reverse Pyramid of Numbers\n",
        "# Pattern 2\n",
        "\n",
        "rows = 6\n",
        "for i in range(1, rows):\n",
        "    for j in range(i, 0, -1):\n",
        "        print(j, end=' ')\n",
        "    print(\"\")"
      ],
      "metadata": {
        "colab": {
          "base_uri": "https://localhost:8080/"
        },
        "id": "19iuQojHcEYM",
        "outputId": "fe9729aa-5e9c-444b-da60-0e8903573896"
      },
      "execution_count": null,
      "outputs": [
        {
          "output_type": "stream",
          "name": "stdout",
          "text": [
            "1 \n",
            "2 1 \n",
            "3 2 1 \n",
            "4 3 2 1 \n",
            "5 4 3 2 1 \n"
          ]
        }
      ]
    },
    {
      "cell_type": "code",
      "source": [
        "#9. Another reverse number pattern\n",
        "\n",
        "rows = 5\n",
        "for i in range(0, rows + 1):\n",
        "    for j in range(rows - i, 0, -1):\n",
        "        print(j, end=' ')\n",
        "    print()"
      ],
      "metadata": {
        "colab": {
          "base_uri": "https://localhost:8080/"
        },
        "id": "jwqFKx84cmGh",
        "outputId": "2fd96ef7-d5f3-48a3-d34b-39bf3d9b1d11"
      },
      "execution_count": null,
      "outputs": [
        {
          "output_type": "stream",
          "name": "stdout",
          "text": [
            "5 4 3 2 1 \n",
            "4 3 2 1 \n",
            "3 2 1 \n",
            "2 1 \n",
            "1 \n",
            "\n"
          ]
        }
      ]
    },
    {
      "cell_type": "code",
      "source": [
        "#10. Print reverse number from 10 to 1\n",
        "\n",
        "start = 1\n",
        "stop = 2\n",
        "current_num = stop\n",
        "for row in range(2, 6):\n",
        "    for col in range(start, stop):\n",
        "        current_num -= 1\n",
        "        print(current_num, end=' ')\n",
        "    print(\"\")\n",
        "    start = stop\n",
        "    stop += row\n",
        "    current_num = stop"
      ],
      "metadata": {
        "colab": {
          "base_uri": "https://localhost:8080/"
        },
        "id": "aiGFq7Sac4U7",
        "outputId": "056ad454-2803-49b7-e9d9-d8964d29b3a8"
      },
      "execution_count": null,
      "outputs": [
        {
          "output_type": "stream",
          "name": "stdout",
          "text": [
            "1 \n",
            "3 2 \n",
            "6 5 4 \n",
            "10 9 8 7 \n"
          ]
        }
      ]
    },
    {
      "cell_type": "code",
      "source": [
        "#11. Number triangle pattern\n",
        "\n",
        "rows = 6\n",
        "for i in range(1, rows):\n",
        "    num = 1\n",
        "    for j in range(rows, 0, -1):\n",
        "        if j > i:\n",
        "            print(\" \", end=' ')\n",
        "        else:\n",
        "            print(num, end=' ')\n",
        "            num += 1\n",
        "    print(\"\")"
      ],
      "metadata": {
        "colab": {
          "base_uri": "https://localhost:8080/"
        },
        "id": "0Hinoe8LdjVB",
        "outputId": "ba57ee49-e938-408b-910a-db80ddd0272a"
      },
      "execution_count": null,
      "outputs": [
        {
          "output_type": "stream",
          "name": "stdout",
          "text": [
            "          1 \n",
            "        1 2 \n",
            "      1 2 3 \n",
            "    1 2 3 4 \n",
            "  1 2 3 4 5 \n"
          ]
        }
      ]
    },
    {
      "cell_type": "code",
      "source": [
        "#12. Pascal’s triangle pattern using numbers\n",
        "\n",
        "def print_pascal_triangle(size):\n",
        "    for i in range(0, size):\n",
        "        for j in range(0, i + 1):\n",
        "            print(decide_number(i, j), end=\" \")\n",
        "        print()\n",
        "\n",
        "\n",
        "def decide_number(n, k):\n",
        "    num = 1\n",
        "    if k > n - k:\n",
        "        k = n - k\n",
        "    for i in range(0, k):\n",
        "        num = num * (n - i)\n",
        "        num = num // (i + 1)\n",
        "    return num\n",
        "\n",
        "# set rows\n",
        "rows = 7\n",
        "print_pascal_triangle(rows)"
      ],
      "metadata": {
        "colab": {
          "base_uri": "https://localhost:8080/"
        },
        "id": "WrEHLAexehm-",
        "outputId": "b8a8bd84-8d7e-471f-e3be-b1019a251dce"
      },
      "execution_count": null,
      "outputs": [
        {
          "output_type": "stream",
          "name": "stdout",
          "text": [
            "1 \n",
            "1 1 \n",
            "1 2 1 \n",
            "1 3 3 1 \n",
            "1 4 6 4 1 \n",
            "1 5 10 10 5 1 \n",
            "1 6 15 20 15 6 1 \n"
          ]
        }
      ]
    },
    {
      "cell_type": "code",
      "source": [
        "#13. Square pattern with numbers\n",
        "\n",
        "rows = 5\n",
        "for i in range(1, rows + 1):\n",
        "    for j in range(1, rows + 1):\n",
        "        if j <= i:\n",
        "            print(i, end=' ')\n",
        "        else:\n",
        "            print(j, end=' ')\n",
        "    print()"
      ],
      "metadata": {
        "colab": {
          "base_uri": "https://localhost:8080/"
        },
        "id": "TqYzSGzMeutN",
        "outputId": "75f1303d-71e6-40a3-c36c-bd5b21b018f0"
      },
      "execution_count": null,
      "outputs": [
        {
          "output_type": "stream",
          "name": "stdout",
          "text": [
            "1 2 3 4 5 \n",
            "2 2 3 4 5 \n",
            "3 3 3 4 5 \n",
            "4 4 4 4 5 \n",
            "5 5 5 5 5 \n"
          ]
        }
      ]
    },
    {
      "cell_type": "code",
      "source": [
        "#14. Multiplication table pattern\n",
        "\n",
        "rows = 8\n",
        "# rows = int(input(\"Enter the number of rows \"))\n",
        "for i in range(1, rows + 1):\n",
        "    for j in range(1, i + 1):\n",
        "        # multiplication current column and row\n",
        "        square = i * j\n",
        "        print(i * j, end='  ')\n",
        "    print()"
      ],
      "metadata": {
        "colab": {
          "base_uri": "https://localhost:8080/"
        },
        "id": "AwQiXcy8gjY_",
        "outputId": "791ee786-f7e8-4183-a95c-e9dc1b25c58d"
      },
      "execution_count": null,
      "outputs": [
        {
          "output_type": "stream",
          "name": "stdout",
          "text": [
            "1  \n",
            "2  4  \n",
            "3  6  9  \n",
            "4  8  12  16  \n",
            "5  10  15  20  25  \n",
            "6  12  18  24  30  36  \n",
            "7  14  21  28  35  42  49  \n",
            "8  16  24  32  40  48  56  64  \n"
          ]
        }
      ]
    },
    {
      "cell_type": "code",
      "source": [
        "# Pyramid pattern of stars in python\n",
        "#15. Simple half pyramid pattern: –\n",
        "\n",
        "# number of rows\n",
        "rows = 5\n",
        "for i in range(0, rows):\n",
        "    # nested loop for each column\n",
        "    for j in range(0, i + 1):\n",
        "        # print star\n",
        "        print(\"*\", end=' ')\n",
        "    # new line after each row\n",
        "    print(\"\\r\")\n"
      ],
      "metadata": {
        "colab": {
          "base_uri": "https://localhost:8080/"
        },
        "id": "8pSSCxLlgxFZ",
        "outputId": "25a3d72e-cd1a-4381-de1f-afaf7cc15428"
      },
      "execution_count": null,
      "outputs": [
        {
          "output_type": "stream",
          "name": "stdout",
          "text": [
            "* \r\n",
            "* * \r\n",
            "* * * \r\n",
            "* * * * \r\n",
            "* * * * * \r\n"
          ]
        }
      ]
    },
    {
      "cell_type": "code",
      "source": [
        "#16. Right triangle pyramid of Stars\n",
        "\n",
        "rows = 5\n",
        "k = 2 * rows - 2\n",
        "for i in range(0, rows):\n",
        "    # process each column\n",
        "    for j in range(0, k):\n",
        "        # print space in pyramid\n",
        "        print(end=\" \")\n",
        "    k = k - 2\n",
        "    for j in range(0, i + 1):\n",
        "        # display star\n",
        "        print(\"* \", end=\"\")\n",
        "    print(\"\")"
      ],
      "metadata": {
        "colab": {
          "base_uri": "https://localhost:8080/"
        },
        "id": "0jQq-kP-hVqv",
        "outputId": "c567b6b5-bca3-4626-f382-c7b5513f8394"
      },
      "execution_count": null,
      "outputs": [
        {
          "output_type": "stream",
          "name": "stdout",
          "text": [
            "        * \n",
            "      * * \n",
            "    * * * \n",
            "  * * * * \n",
            "* * * * * \n"
          ]
        }
      ]
    },
    {
      "cell_type": "code",
      "source": [
        "#17. Downward half-Pyramid Pattern of Star\n",
        "rows = 5\n",
        "for i in range(rows + 1, 0, -1):\n",
        "    # nested reverse loop\n",
        "    for j in range(0, i - 1):\n",
        "        # display star\n",
        "        print(\"*\", end=' ')\n",
        "    print(\" \")"
      ],
      "metadata": {
        "colab": {
          "base_uri": "https://localhost:8080/"
        },
        "id": "8nzKyK1ghd3u",
        "outputId": "67cc1dc0-a8b6-49b4-fc42-267316dfdb3f"
      },
      "execution_count": null,
      "outputs": [
        {
          "output_type": "stream",
          "name": "stdout",
          "text": [
            "* * * * *  \n",
            "* * * *  \n",
            "* * *  \n",
            "* *  \n",
            "*  \n",
            " \n"
          ]
        }
      ]
    },
    {
      "cell_type": "code",
      "source": [
        "#18. Downward full Pyramid Pattern of star\n",
        "\n",
        "rows = 5\n",
        "k = 2 * rows - 2\n",
        "for i in range(rows, -1, -1):\n",
        "    for j in range(k, 0, -1):\n",
        "        print(end=\" \")\n",
        "    k = k + 1\n",
        "    for j in range(0, i + 1):\n",
        "        print(\"*\", end=\" \")\n",
        "    print(\"\")"
      ],
      "metadata": {
        "colab": {
          "base_uri": "https://localhost:8080/"
        },
        "id": "8-SGzsKeiKd5",
        "outputId": "3e9edf70-1dcb-46bf-958a-a233a7fad609"
      },
      "execution_count": null,
      "outputs": [
        {
          "output_type": "stream",
          "name": "stdout",
          "text": [
            "        * * * * * * \n",
            "         * * * * * \n",
            "          * * * * \n",
            "           * * * \n",
            "            * * \n",
            "             * \n"
          ]
        }
      ]
    },
    {
      "cell_type": "code",
      "source": [
        "#19. Right down mirror star Pattern\n",
        "\n",
        "rows = 5\n",
        "i = rows\n",
        "while i >= 1:\n",
        "    j = rows\n",
        "    while j > i:\n",
        "        # display space\n",
        "        print(' ', end=' ')\n",
        "        j -= 1\n",
        "    k = 1\n",
        "    while k <= i:\n",
        "        print('*', end=' ')\n",
        "        k += 1\n",
        "    print()\n",
        "    i -= 1"
      ],
      "metadata": {
        "colab": {
          "base_uri": "https://localhost:8080/"
        },
        "id": "agB26ZP8iWOW",
        "outputId": "9b9439fa-9d81-465e-8d08-0f798a1e2f21"
      },
      "execution_count": null,
      "outputs": [
        {
          "output_type": "stream",
          "name": "stdout",
          "text": [
            "* * * * * \n",
            "  * * * * \n",
            "    * * * \n",
            "      * * \n",
            "        * \n"
          ]
        }
      ]
    },
    {
      "cell_type": "code",
      "source": [
        "#20. Equilateral triangle pattern of star\n",
        "\n",
        "print(\"Print equilateral triangle Pyramid using asterisk symbol \")\n",
        "# printing full Triangle pyramid using stars\n",
        "size = 7\n",
        "m = (2 * size) - 2\n",
        "for i in range(0, size):\n",
        "    for j in range(0, m):\n",
        "        print(end=\" \")\n",
        "    # decrementing m after each loop\n",
        "    m = m - 1\n",
        "    for j in range(0, i + 1):\n",
        "        print(\"* \", end=' ')\n",
        "    print(\" \")"
      ],
      "metadata": {
        "colab": {
          "base_uri": "https://localhost:8080/"
        },
        "id": "3k_hnHSbikvS",
        "outputId": "53e048dc-c706-4b82-a190-f9172a117382"
      },
      "execution_count": null,
      "outputs": [
        {
          "output_type": "stream",
          "name": "stdout",
          "text": [
            "Print equilateral triangle Pyramid using asterisk symbol \n",
            "            *   \n",
            "           *  *   \n",
            "          *  *  *   \n",
            "         *  *  *  *   \n",
            "        *  *  *  *  *   \n",
            "       *  *  *  *  *  *   \n",
            "      *  *  *  *  *  *  *   \n"
          ]
        }
      ]
    },
    {
      "cell_type": "code",
      "source": [
        "#21. Print two pyramids of stars\n",
        "\n",
        "rows = 6\n",
        "for i in range(0, rows):\n",
        "    for j in range(0, i + 1):\n",
        "        print(\"*\", end=' ')\n",
        "    print(\" \")\n",
        "\n",
        "print(\" \")\n",
        "\n",
        "for i in range(rows + 1, 0, -1):\n",
        "    for j in range(0, i - 1):\n",
        "        print(\"*\", end=' ')\n",
        "    print(\" \")"
      ],
      "metadata": {
        "colab": {
          "base_uri": "https://localhost:8080/"
        },
        "id": "TF-uxVM-it0u",
        "outputId": "51d401b4-e958-4f9d-8441-98f40e341480"
      },
      "execution_count": null,
      "outputs": [
        {
          "output_type": "stream",
          "name": "stdout",
          "text": [
            "*  \n",
            "* *  \n",
            "* * *  \n",
            "* * * *  \n",
            "* * * * *  \n",
            "* * * * * *  \n",
            " \n",
            "* * * * * *  \n",
            "* * * * *  \n",
            "* * * *  \n",
            "* * *  \n",
            "* *  \n",
            "*  \n",
            " \n"
          ]
        }
      ]
    },
    {
      "cell_type": "code",
      "source": [
        "#22. Right start pattern of star \n",
        "\n",
        "rows = 5\n",
        "for i in range(0, rows):\n",
        "    for j in range(0, i + 1):\n",
        "        print(\"*\", end=' ')\n",
        "    print(\"\\r\")\n",
        "\n",
        "for i in range(rows, 0, -1):\n",
        "    for j in range(0, i - 1):\n",
        "        print(\"*\", end=' ')\n",
        "    print(\"\\r\")"
      ],
      "metadata": {
        "colab": {
          "base_uri": "https://localhost:8080/"
        },
        "id": "ICb6DYzfi8u4",
        "outputId": "6cb0cdf9-9604-4ea3-9477-5c0bed2b9341"
      },
      "execution_count": null,
      "outputs": [
        {
          "output_type": "stream",
          "name": "stdout",
          "text": [
            "* \r\n",
            "* * \r\n",
            "* * * \r\n",
            "* * * * \r\n",
            "* * * * * \r\n",
            "* * * * \r\n",
            "* * * \r\n",
            "* * \r\n",
            "* \r\n",
            "\r\n"
          ]
        }
      ]
    },
    {
      "cell_type": "code",
      "source": [
        "#23. Left triangle pascal’s pattern\n",
        "\n",
        "rows = 5\n",
        "i = 1\n",
        "while i <= rows:\n",
        "    j = i\n",
        "    while j < rows:\n",
        "        # display space\n",
        "        print(' ', end=' ')\n",
        "        j += 1\n",
        "    k = 1\n",
        "    while k <= i:\n",
        "        print('*', end=' ')\n",
        "        k += 1\n",
        "    print()\n",
        "    i += 1\n",
        "\n",
        "i = rows\n",
        "while i >= 1:\n",
        "    j = i\n",
        "    while j <= rows:\n",
        "        print(' ', end=' ')\n",
        "        j += 1\n",
        "    k = 1\n",
        "    while k < i:\n",
        "        print('*', end=' ')\n",
        "        k += 1\n",
        "    print('')\n",
        "    i -= 1"
      ],
      "metadata": {
        "colab": {
          "base_uri": "https://localhost:8080/"
        },
        "id": "x57Ju1YDad30",
        "outputId": "009af2f0-8b57-4fa7-8051-2dea92cafe82"
      },
      "execution_count": null,
      "outputs": [
        {
          "output_type": "stream",
          "name": "stdout",
          "text": [
            "        * \n",
            "      * * \n",
            "    * * * \n",
            "  * * * * \n",
            "* * * * * \n",
            "  * * * * \n",
            "    * * * \n",
            "      * * \n",
            "        * \n",
            "          \n"
          ]
        }
      ]
    },
    {
      "cell_type": "code",
      "source": [
        "#24. Sandglass pattern of star\n",
        "\n",
        "rows = 5\n",
        "i = 0\n",
        "while i <= rows - 1:\n",
        "    j = 0\n",
        "    while j < i:\n",
        "        # display space\n",
        "        print('', end=' ')\n",
        "        j += 1\n",
        "    k = i\n",
        "    while k <= rows - 1:\n",
        "        print('*', end=' ')\n",
        "        k += 1\n",
        "    print()\n",
        "    i += 1\n",
        "\n",
        "i = rows - 1\n",
        "while i >= 0:\n",
        "    j = 0\n",
        "    while j < i:\n",
        "        print('', end=' ')\n",
        "        j += 1\n",
        "    k = i\n",
        "    while k <= rows - 1:\n",
        "        print('*', end=' ')\n",
        "        k += 1\n",
        "    print('')\n",
        "    i -= 1"
      ],
      "metadata": {
        "colab": {
          "base_uri": "https://localhost:8080/"
        },
        "id": "lkvjJKHdatXR",
        "outputId": "8a03400f-f94a-44eb-cd49-5af2914edc35"
      },
      "execution_count": null,
      "outputs": [
        {
          "output_type": "stream",
          "name": "stdout",
          "text": [
            "* * * * * \n",
            " * * * * \n",
            "  * * * \n",
            "   * * \n",
            "    * \n",
            "    * \n",
            "   * * \n",
            "  * * * \n",
            " * * * * \n",
            "* * * * * \n"
          ]
        }
      ]
    },
    {
      "cell_type": "code",
      "source": [
        "#25. Pant style pattern of stars\n",
        "\n",
        "rows = 14\n",
        "print(\"*\" * rows, end=\"\\n\")\n",
        "i = (rows // 2) - 1\n",
        "j = 2\n",
        "while i != 0:\n",
        "    while j <= (rows - 2):\n",
        "        print(\"*\" * i, end=\"\")\n",
        "        print(\"_\" * j, end=\"\")\n",
        "        print(\"*\" * i, end=\"\\n\")\n",
        "        i = i - 1\n",
        "        j = j + 2"
      ],
      "metadata": {
        "colab": {
          "base_uri": "https://localhost:8080/"
        },
        "id": "hg-3Vm4Oa77S",
        "outputId": "18e7c68c-e98a-41ee-8a26-8f5425e71baf"
      },
      "execution_count": null,
      "outputs": [
        {
          "output_type": "stream",
          "name": "stdout",
          "text": [
            "**************\n",
            "******__******\n",
            "*****____*****\n",
            "****______****\n",
            "***________***\n",
            "**__________**\n",
            "*____________*\n"
          ]
        }
      ]
    },
    {
      "cell_type": "code",
      "source": [
        "#26 Diamond-shaped pattern of stars\n",
        "\n",
        "rows = 5\n",
        "k = 2 * rows - 2\n",
        "for i in range(0, rows):\n",
        "    for j in range(0, k):\n",
        "        print(end=\" \")\n",
        "    k = k - 1\n",
        "    for j in range(0, i + 1):\n",
        "        print(\"* \", end=\"\")\n",
        "    print(\"\")\n",
        "    \n",
        "k = rows - 2\n",
        "\n",
        "for i in range(rows, -1, -1):\n",
        "    for j in range(k, 0, -1):\n",
        "        print(end=\" \")\n",
        "    k = k + 1\n",
        "    for j in range(0, i + 1):\n",
        "        print(\"* \", end=\"\")\n",
        "    print(\"\")"
      ],
      "metadata": {
        "colab": {
          "base_uri": "https://localhost:8080/"
        },
        "id": "GZ_SRBPInbpF",
        "outputId": "ed08cf8b-11f1-4766-e33b-ce1e916e69a0"
      },
      "execution_count": null,
      "outputs": [
        {
          "output_type": "stream",
          "name": "stdout",
          "text": [
            "        * \n",
            "       * * \n",
            "      * * * \n",
            "     * * * * \n",
            "    * * * * * \n",
            "   * * * * * * \n",
            "    * * * * * \n",
            "     * * * * \n",
            "      * * * \n",
            "       * * \n",
            "        * \n"
          ]
        }
      ]
    },
    {
      "cell_type": "code",
      "source": [
        "#27. Another diamond pattern of star\n",
        "\n",
        "rows = 5\n",
        "i = 1\n",
        "while i <= rows:\n",
        "    j = rows\n",
        "    while j > i:\n",
        "        # display space\n",
        "        print(' ', end=' ')\n",
        "        j -= 1\n",
        "    print('*', end=' ')\n",
        "    k = 1\n",
        "    while k < 2 * (i - 1):\n",
        "        print(' ', end=' ')\n",
        "        k += 1\n",
        "    if i == 1:\n",
        "        print()\n",
        "    else:\n",
        "        print('*')\n",
        "    i += 1\n",
        "\n",
        "i = rows - 1\n",
        "while i >= 1:\n",
        "    j = rows\n",
        "    while j > i:\n",
        "        print(' ', end=' ')\n",
        "        j -= 1\n",
        "    print('*', end=' ')\n",
        "    k = 1\n",
        "    while k <= 2 * (i - 1):\n",
        "        print(' ', end=' ')\n",
        "        k += 1\n",
        "    if i == 1:\n",
        "        print()\n",
        "    else:\n",
        "        print('*')\n",
        "    i -= 1"
      ],
      "metadata": {
        "colab": {
          "base_uri": "https://localhost:8080/"
        },
        "id": "qW_TJ8jbn9pa",
        "outputId": "6e41de42-fca6-4d79-9f88-171f615ee246"
      },
      "execution_count": null,
      "outputs": [
        {
          "output_type": "stream",
          "name": "stdout",
          "text": [
            "        * \n",
            "      *   *\n",
            "    *       *\n",
            "  *           *\n",
            "*               *\n",
            "  *             *\n",
            "    *         *\n",
            "      *     *\n",
            "        * \n"
          ]
        }
      ]
    },
    {
      "cell_type": "markdown",
      "source": [
        "**ALPHABETS AND LETTER PATTERN**"
      ],
      "metadata": {
        "id": "hibESqJIajyd"
      }
    },
    {
      "cell_type": "code",
      "source": [
        "#28. LETTERS IN TRAINGULAR FORM \n",
        "\n",
        "# ASCII number of 'A'\n",
        "ascii_number = 65\n",
        "rows = 7\n",
        "for i in range(0, rows):\n",
        "    for j in range(0, i + 1):\n",
        "        character = chr(ascii_number)\n",
        "        print(character, end=' ')\n",
        "        ascii_number += 1\n",
        "    print(\" \")"
      ],
      "metadata": {
        "colab": {
          "base_uri": "https://localhost:8080/"
        },
        "id": "ZNEHvhdhaqzo",
        "outputId": "3be66879-27be-4700-897a-3d2393e193da"
      },
      "execution_count": null,
      "outputs": [
        {
          "output_type": "stream",
          "name": "stdout",
          "text": [
            "A  \n",
            "B C  \n",
            "D E F  \n",
            "G H I J  \n",
            "K L M N O  \n",
            "P Q R S T U  \n",
            "V W X Y Z [ \\  \n"
          ]
        }
      ]
    },
    {
      "cell_type": "code",
      "source": [
        "#29. Pattern to display letter of the word\n",
        "\n",
        "word = \"Python\"\n",
        "x = \"\"\n",
        "for i in word:\n",
        "    x += i\n",
        "    print(x)"
      ],
      "metadata": {
        "colab": {
          "base_uri": "https://localhost:8080/"
        },
        "id": "8qjHv6AfbFdP",
        "outputId": "3b1d2483-3dff-4372-fe26-43bf811ea99f"
      },
      "execution_count": null,
      "outputs": [
        {
          "output_type": "stream",
          "name": "stdout",
          "text": [
            "P\n",
            "Py\n",
            "Pyt\n",
            "Pyth\n",
            "Pytho\n",
            "Python\n"
          ]
        }
      ]
    },
    {
      "cell_type": "code",
      "source": [
        "#30. Equilateral triangle pattern of characters/alphabets\n",
        "\n",
        "print(\"Print equilateral triangle Pyramid with characters \")\n",
        "size = 7\n",
        "asciiNumber = 65\n",
        "m = (2 * size) - 2\n",
        "for i in range(0, size):\n",
        "    for j in range(0, m):\n",
        "        print(end=\" \")\n",
        "    m = m - 1\n",
        "    for j in range(0, i + 1):\n",
        "        character = chr(asciiNumber)\n",
        "        print(character, end=' ')\n",
        "        asciiNumber += 1\n",
        "    print(\" \")"
      ],
      "metadata": {
        "colab": {
          "base_uri": "https://localhost:8080/"
        },
        "id": "0D1P3UHLbRS0",
        "outputId": "90a1fb38-54ef-4d7c-a32b-db2b155102f7"
      },
      "execution_count": null,
      "outputs": [
        {
          "output_type": "stream",
          "name": "stdout",
          "text": [
            "Print equilateral triangle Pyramid with characters \n",
            "            A  \n",
            "           B C  \n",
            "          D E F  \n",
            "         G H I J  \n",
            "        K L M N O  \n",
            "       P Q R S T U  \n",
            "      V W X Y Z [ \\  \n"
          ]
        }
      ]
    },
    {
      "cell_type": "code",
      "source": [
        "#30. Pattern of same character\n",
        "\n",
        "# Same character pattern\n",
        "character = 'V'\n",
        "# convert char to ASCII\n",
        "char_ascii_no = ord(character)\n",
        "for i in range(0, 5):\n",
        "    for j in range(0, i + 1):\n",
        "        # Convert the ASCII value to the character\n",
        "        user_char = chr(char_ascii_no)\n",
        "        print(user_char, end=' ')\n",
        "    print()"
      ],
      "metadata": {
        "colab": {
          "base_uri": "https://localhost:8080/"
        },
        "id": "isU7dSW6bh7g",
        "outputId": "3be23449-2ffc-4cba-8a8b-fc767ce3a3c8"
      },
      "execution_count": null,
      "outputs": [
        {
          "output_type": "stream",
          "name": "stdout",
          "text": [
            "V \n",
            "V V \n",
            "V V V \n",
            "V V V V \n",
            "V V V V V \n"
          ]
        }
      ]
    },
    {
      "cell_type": "code",
      "source": [
        "#31. Pyramid of horizontal number tables\n",
        "\n",
        "rows = 10\n",
        "for i in range(1, rows + 1):\n",
        "    for j in range(1, i + 1):\n",
        "        print(i * j, end=' ')\n",
        "    print()"
      ],
      "metadata": {
        "colab": {
          "base_uri": "https://localhost:8080/"
        },
        "id": "KnJYn3wHb0mC",
        "outputId": "433bdddb-902c-49cd-b504-50d455fd1b69"
      },
      "execution_count": null,
      "outputs": [
        {
          "output_type": "stream",
          "name": "stdout",
          "text": [
            "1 \n",
            "2 4 \n",
            "3 6 9 \n",
            "4 8 12 16 \n",
            "5 10 15 20 25 \n",
            "6 12 18 24 30 36 \n",
            "7 14 21 28 35 42 49 \n",
            "8 16 24 32 40 48 56 64 \n",
            "9 18 27 36 45 54 63 72 81 \n",
            "10 20 30 40 50 60 70 80 90 100 \n"
          ]
        }
      ]
    },
    {
      "cell_type": "code",
      "source": [
        "#32. Double the number pattern\n",
        "# In each column, every number is double it’s the preceding number.\n",
        "\n",
        "rows = 9\n",
        "for i in range(1, rows):\n",
        "    for j in range(-1 + i, -1, -1):\n",
        "        print(format(2 ** j, \"4d\"), end=' ')\n",
        "    print(\"\")"
      ],
      "metadata": {
        "colab": {
          "base_uri": "https://localhost:8080/"
        },
        "id": "p7O0bD2Zb9MY",
        "outputId": "a72ad879-091d-4f4a-812a-8ec056661669"
      },
      "execution_count": null,
      "outputs": [
        {
          "output_type": "stream",
          "name": "stdout",
          "text": [
            "   1 \n",
            "   2    1 \n",
            "   4    2    1 \n",
            "   8    4    2    1 \n",
            "  16    8    4    2    1 \n",
            "  32   16    8    4    2    1 \n",
            "  64   32   16    8    4    2    1 \n",
            " 128   64   32   16    8    4    2    1 \n"
          ]
        }
      ]
    },
    {
      "cell_type": "code",
      "source": [
        "#33. Random number pattern\n",
        "\n",
        "rows = 9\n",
        "for i in range(1, rows):\n",
        "    for i in range(0, i, 1):\n",
        "        print(format(2 ** i, \"4d\"), end=' ')\n",
        "    for i in range(-1 + i, -1, -1):\n",
        "        print(format(2 ** i, \"4d\"), end=' ')\n",
        "    print(\"\")"
      ],
      "metadata": {
        "colab": {
          "base_uri": "https://localhost:8080/"
        },
        "id": "40KO16EIcRIT",
        "outputId": "02328e8e-ae71-496a-9157-f1b7109ae15c"
      },
      "execution_count": null,
      "outputs": [
        {
          "output_type": "stream",
          "name": "stdout",
          "text": [
            "   1 \n",
            "   1    2    1 \n",
            "   1    2    4    2    1 \n",
            "   1    2    4    8    4    2    1 \n",
            "   1    2    4    8   16    8    4    2    1 \n",
            "   1    2    4    8   16   32   16    8    4    2    1 \n",
            "   1    2    4    8   16   32   64   32   16    8    4    2    1 \n",
            "   1    2    4    8   16   32   64  128   64   32   16    8    4    2    1 \n"
          ]
        }
      ]
    },
    {
      "cell_type": "code",
      "source": [
        "#34. Pyramid of numbers less than 10\n",
        "\n",
        "current_num = 1\n",
        "stop = 2\n",
        "rows = 3\n",
        "\n",
        "for i in range(rows):\n",
        "    for column in range(1, stop):\n",
        "        print(current_num, end=' ')\n",
        "        current_num += 1\n",
        "    print(\"\")\n",
        "    stop += 2"
      ],
      "metadata": {
        "colab": {
          "base_uri": "https://localhost:8080/"
        },
        "id": "Xs9wZKsrccO_",
        "outputId": "3d49d949-3d5e-4ff8-c55f-78705f4bed0a"
      },
      "execution_count": null,
      "outputs": [
        {
          "output_type": "stream",
          "name": "stdout",
          "text": [
            "1 \n",
            "2 3 4 \n",
            "5 6 7 8 9 \n"
          ]
        }
      ]
    },
    {
      "cell_type": "code",
      "source": [
        "#35. Pyramid of numbers up to 10\n",
        "\n",
        "current_num = 1\n",
        "rows = 4\n",
        "stop = 2\n",
        "for i in range(rows):\n",
        "    for column in range(1, stop):\n",
        "        print(current_num, end=' ')\n",
        "        current_num += 1\n",
        "    print(\"\")\n",
        "    stop += 1"
      ],
      "metadata": {
        "colab": {
          "base_uri": "https://localhost:8080/"
        },
        "id": "wAjwkQUQcwo_",
        "outputId": "f8cdf485-7aef-4411-9376-099f06d6c129"
      },
      "execution_count": null,
      "outputs": [
        {
          "output_type": "stream",
          "name": "stdout",
          "text": [
            "1 \n",
            "2 3 \n",
            "4 5 6 \n",
            "7 8 9 10 \n"
          ]
        }
      ]
    },
    {
      "cell_type": "code",
      "source": [
        "#36. Even number pattern\n",
        "\n",
        "rows = 5\n",
        "last_num = 2 * rows\n",
        "even_num = last_num\n",
        "for i in range(1, rows + 1):\n",
        "    even_num = last_num\n",
        "    for j in range(i):\n",
        "        print(even_num, end=' ')\n",
        "        even_num -= 2\n",
        "    print(\"\\r\")"
      ],
      "metadata": {
        "colab": {
          "base_uri": "https://localhost:8080/"
        },
        "id": "90wsyzPYc98E",
        "outputId": "0be958b0-a2dc-445a-a029-85461e9628c8"
      },
      "execution_count": null,
      "outputs": [
        {
          "output_type": "stream",
          "name": "stdout",
          "text": [
            "10 \r\n",
            "10 8 \r\n",
            "10 8 6 \r\n",
            "10 8 6 4 \r\n",
            "10 8 6 4 2 \r\n"
          ]
        }
      ]
    },
    {
      "cell_type": "code",
      "source": [
        "#37. Unique pyramid pattern of digits\n",
        "\n",
        "rows = 6\n",
        "for i in range(1, rows + 1):\n",
        "    for j in range(1, i - 1):\n",
        "        print(j, end=\" \")\n",
        "    for j in range(i - 1, 0, -1):\n",
        "        print(j, end=\" \")\n",
        "    print()"
      ],
      "metadata": {
        "colab": {
          "base_uri": "https://localhost:8080/"
        },
        "id": "UPTVswLNdFmp",
        "outputId": "54660ed5-eab7-497a-eac6-31dba7338c46"
      },
      "execution_count": null,
      "outputs": [
        {
          "output_type": "stream",
          "name": "stdout",
          "text": [
            "\n",
            "1 \n",
            "1 2 1 \n",
            "1 2 3 2 1 \n",
            "1 2 3 4 3 2 1 \n",
            "1 2 3 4 5 4 3 2 1 \n"
          ]
        }
      ]
    },
    {
      "cell_type": "code",
      "source": [
        "#38. Pattern double number on each column\n",
        "\n",
        "rows = 7\n",
        "for i in range(0, rows):\n",
        "    for j in range(0, i + 1):\n",
        "        print(i * j, end='  ')\n",
        "    print()"
      ],
      "metadata": {
        "colab": {
          "base_uri": "https://localhost:8080/"
        },
        "id": "-Lf8QN74dQ-i",
        "outputId": "cbcab2a1-391d-4875-ca5a-f4a5bc7ed982"
      },
      "execution_count": null,
      "outputs": [
        {
          "output_type": "stream",
          "name": "stdout",
          "text": [
            "0  \n",
            "0  1  \n",
            "0  2  4  \n",
            "0  3  6  9  \n",
            "0  4  8  12  16  \n",
            "0  5  10  15  20  25  \n",
            "0  6  12  18  24  30  36  \n"
          ]
        }
      ]
    },
    {
      "cell_type": "code",
      "source": [
        "#39. Number reduction pattern\n",
        "\n",
        "rows = 5\n",
        "for i in range(0, rows + 1, 1):\n",
        "    for j in range(i + 1, rows + 1, 1):\n",
        "        print(j, end=' ')\n",
        "    print()"
      ],
      "metadata": {
        "colab": {
          "base_uri": "https://localhost:8080/"
        },
        "id": "ZpMsky4Tdetg",
        "outputId": "a738544c-97b6-4df6-87a0-01ec224c991b"
      },
      "execution_count": null,
      "outputs": [
        {
          "output_type": "stream",
          "name": "stdout",
          "text": [
            "1 2 3 4 5 \n",
            "2 3 4 5 \n",
            "3 4 5 \n",
            "4 5 \n",
            "5 \n",
            "\n"
          ]
        }
      ]
    },
    {
      "cell_type": "code",
      "source": [
        "#40. Pant style pattern of numbers\n",
        "\n",
        "rows = 6\n",
        "for i in range(0, rows):\n",
        "    for j in range(rows - 1, i, -1):\n",
        "        print(j, '', end='')\n",
        "    for l in range(i):\n",
        "        print('    ', end='')\n",
        "    for k in range(i + 1, rows):\n",
        "        print(k, '', end='')\n",
        "    print('\\n')"
      ],
      "metadata": {
        "colab": {
          "base_uri": "https://localhost:8080/"
        },
        "id": "4e5abQafdq9o",
        "outputId": "8458afcd-9a43-4ff6-8667-50441b8de98f"
      },
      "execution_count": null,
      "outputs": [
        {
          "output_type": "stream",
          "name": "stdout",
          "text": [
            "5 4 3 2 1 1 2 3 4 5 \n",
            "\n",
            "5 4 3 2     2 3 4 5 \n",
            "\n",
            "5 4 3         3 4 5 \n",
            "\n",
            "5 4             4 5 \n",
            "\n",
            "5                 5 \n",
            "\n",
            "                    \n",
            "\n"
          ]
        }
      ]
    },
    {
      "cell_type": "code",
      "source": [
        "#41. Pattern with a combination of numbers and stars\n",
        "\n",
        "row = 4\n",
        "for i in range(0, row):\n",
        "    c = 1\n",
        "    print(c, end=' ')\n",
        "    for j in range(row - i - 1, 0, -1):\n",
        "        print('*', end=' ')\n",
        "        c = c + 1\n",
        "        print(c, end=' ')\n",
        "    print('\\n')"
      ],
      "metadata": {
        "colab": {
          "base_uri": "https://localhost:8080/"
        },
        "id": "Dmn06v1zd2P9",
        "outputId": "1bb51db8-e905-4e5d-de13-5ffbb9a26e9c"
      },
      "execution_count": null,
      "outputs": [
        {
          "output_type": "stream",
          "name": "stdout",
          "text": [
            "1 * 2 * 3 * 4 \n",
            "\n",
            "1 * 2 * 3 \n",
            "\n",
            "1 * 2 \n",
            "\n",
            "1 \n",
            "\n"
          ]
        }
      ]
    },
    {
      "cell_type": "code",
      "source": [],
      "metadata": {
        "id": "XEn4mig1eFCi"
      },
      "execution_count": null,
      "outputs": []
    }
  ]
}