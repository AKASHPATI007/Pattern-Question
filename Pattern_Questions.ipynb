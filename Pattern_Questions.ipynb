{
  "nbformat": 4,
  "nbformat_minor": 0,
  "metadata": {
    "colab": {
      "provenance": [],
      "authorship_tag": "ABX9TyPZrOmaP/cFn5SpBxd/M6Vb",
      "include_colab_link": true
    },
    "kernelspec": {
      "name": "python3",
      "display_name": "Python 3"
    },
    "language_info": {
      "name": "python"
    }
  },
  "cells": [
    {
      "cell_type": "markdown",
      "metadata": {
        "id": "view-in-github",
        "colab_type": "text"
      },
      "source": [
        "<a href=\"https://colab.research.google.com/github/AKASHPATI007/Pattern-Question/blob/main/Pattern_Questions.ipynb\" target=\"_parent\"><img src=\"https://colab.research.google.com/assets/colab-badge.svg\" alt=\"Open In Colab\"/></a>"
      ]
    },
    {
      "cell_type": "markdown",
      "source": [
        "**Pattern Questions Asked in Interviews**"
      ],
      "metadata": {
        "id": "TYdUMMLWfv9s"
      }
    },
    {
      "cell_type": "code",
      "execution_count": 6,
      "metadata": {
        "colab": {
          "base_uri": "https://localhost:8080/"
        },
        "id": "yud9zNPDfEqa",
        "outputId": "b9a0450e-06ff-4a50-ce04-aaab05ccea7e"
      },
      "outputs": [
        {
          "output_type": "stream",
          "name": "stdout",
          "text": [
            "\n",
            "1 \n",
            "2 2 \n",
            "3 3 3 \n",
            "4 4 4 4 \n",
            "5 5 5 5 5 \n"
          ]
        }
      ],
      "source": [
        "#1. programs to print number pattern\n",
        "rows = 5\n",
        "for i in range(rows+1):\n",
        "    # nested loop\n",
        "    for j in range(i):\n",
        "        # display number\n",
        "        print(i, end=' ')\n",
        "    # new line after each row\n",
        "    print('')"
      ]
    },
    {
      "cell_type": "code",
      "source": [
        "#2.Pyramid pattern of numbers\n",
        "rows = 5\n",
        "for i in range(1, rows + 1):\n",
        "    for j in range(1, i + 1):\n",
        "        print(j, end=' ')\n",
        "    print('')"
      ],
      "metadata": {
        "colab": {
          "base_uri": "https://localhost:8080/"
        },
        "id": "WqFVlPyQgcOX",
        "outputId": "139a808a-4a1c-4d2b-c099-6b8953a51616"
      },
      "execution_count": 3,
      "outputs": [
        {
          "output_type": "stream",
          "name": "stdout",
          "text": [
            "1 \n",
            "1 2 \n",
            "1 2 3 \n",
            "1 2 3 4 \n",
            "1 2 3 4 5 \n"
          ]
        }
      ]
    },
    {
      "cell_type": "code",
      "source": [
        "# 3. Inverted pyramid pattern of numbers\n",
        "\n",
        "rows = 5\n",
        "b = 0\n",
        "# reverse for loop from 5 to 0\n",
        "for i in range(rows, 0, -1):\n",
        "    b += 1\n",
        "    for j in range(1, i + 1):\n",
        "        print(b, end=' ')\n",
        "    print('\\n')"
      ],
      "metadata": {
        "colab": {
          "base_uri": "https://localhost:8080/"
        },
        "id": "2GNuJte6h1Xc",
        "outputId": "60295eea-79a5-4e9d-96fa-95786553e7f2"
      },
      "execution_count": 7,
      "outputs": [
        {
          "output_type": "stream",
          "name": "stdout",
          "text": [
            "1 1 1 1 1 \n",
            "\n",
            "2 2 2 2 \n",
            "\n",
            "3 3 3 \n",
            "\n",
            "4 4 \n",
            "\n",
            "5 \n",
            "\n"
          ]
        }
      ]
    },
    {
      "cell_type": "code",
      "source": [
        "# 4. Inverted Pyramid pattern with the same digit\n",
        "\n",
        "rows = 5\n",
        "num = rows\n",
        "# reverse for loop\n",
        "for i in range(rows, 0, -1):\n",
        "    for j in range(0, i):\n",
        "        print(num, end=' ')\n",
        "    print(\"\\r\")"
      ],
      "metadata": {
        "colab": {
          "base_uri": "https://localhost:8080/"
        },
        "id": "VRxKhZ8IijzC",
        "outputId": "2270c2ba-07de-4e22-98dc-3e22a1bd6802"
      },
      "execution_count": 8,
      "outputs": [
        {
          "output_type": "stream",
          "name": "stdout",
          "text": [
            "5 5 5 5 5 \r\n",
            "5 5 5 5 \r\n",
            "5 5 5 \r\n",
            "5 5 \r\n",
            "5 \r\n"
          ]
        }
      ]
    },
    {
      "cell_type": "code",
      "source": [
        "# 5. Another inverted half pyramid pattern with number\n",
        "\n",
        "rows = 5\n",
        "for i in range(rows, 0, -1):\n",
        "    for j in range(0, i + 1):\n",
        "        print(j, end=' ')\n",
        "    print(\"\\r\")"
      ],
      "metadata": {
        "colab": {
          "base_uri": "https://localhost:8080/"
        },
        "id": "Q3slMlgsi7Q4",
        "outputId": "9d4a447e-0531-4246-dfad-35cc80f5c9c5"
      },
      "execution_count": 9,
      "outputs": [
        {
          "output_type": "stream",
          "name": "stdout",
          "text": [
            "0 1 2 3 4 5 \r\n",
            "0 1 2 3 4 \r\n",
            "0 1 2 3 \r\n",
            "0 1 2 \r\n",
            "0 1 \r\n"
          ]
        }
      ]
    },
    {
      "cell_type": "code",
      "source": [
        "# 6. Alternate numbers pattern using while loop\n",
        "rows = 5\n",
        "i = 1\n",
        "while i <= rows:\n",
        "    j = 1\n",
        "    while j <= i:\n",
        "        print((i * 2 - 1), end=\" \")\n",
        "        j = j + 1\n",
        "    i = i + 1\n",
        "    print('')\n",
        "\n",
        "# OR\n",
        "\n",
        "#rows = 5\n",
        "#i = 1 \n",
        "#for i in range(rows):\n",
        "#  for j in range(i):\n",
        "#    print((i*2-1),end=' ')\n",
        "#  print()\n"
      ],
      "metadata": {
        "colab": {
          "base_uri": "https://localhost:8080/"
        },
        "id": "vFMB4TqsmWHm",
        "outputId": "302e1737-73c1-4600-ddc0-a7eabaabd52e"
      },
      "execution_count": 14,
      "outputs": [
        {
          "output_type": "stream",
          "name": "stdout",
          "text": [
            "1 \n",
            "3 3 \n",
            "5 5 5 \n",
            "7 7 7 7 \n",
            "9 9 9 9 9 \n"
          ]
        }
      ]
    },
    {
      "cell_type": "code",
      "source": [
        "# Reverse number pattern\n",
        "\n",
        "rows = 5\n",
        "# reverse loop\n",
        "for i in range(rows, 0, -1):\n",
        "    num = i\n",
        "    for j in range(0, i):\n",
        "        print(num, end=' ')\n",
        "    print(\"\\r\")"
      ],
      "metadata": {
        "colab": {
          "base_uri": "https://localhost:8080/"
        },
        "id": "kQtA9RUAa63Y",
        "outputId": "0599f9ba-834d-497c-8ac1-cab0966dac87"
      },
      "execution_count": 15,
      "outputs": [
        {
          "output_type": "stream",
          "name": "stdout",
          "text": [
            "5 5 5 5 5 \r\n",
            "4 4 4 4 \r\n",
            "3 3 3 \r\n",
            "2 2 \r\n",
            "1 \r\n"
          ]
        }
      ]
    },
    {
      "cell_type": "code",
      "source": [
        "# Reverse Pyramid of Numbers\n",
        "# Pattern 2\n",
        "\n",
        "rows = 6\n",
        "for i in range(1, rows):\n",
        "    for j in range(i, 0, -1):\n",
        "        print(j, end=' ')\n",
        "    print(\"\")"
      ],
      "metadata": {
        "colab": {
          "base_uri": "https://localhost:8080/"
        },
        "id": "19iuQojHcEYM",
        "outputId": "fe9729aa-5e9c-444b-da60-0e8903573896"
      },
      "execution_count": 16,
      "outputs": [
        {
          "output_type": "stream",
          "name": "stdout",
          "text": [
            "1 \n",
            "2 1 \n",
            "3 2 1 \n",
            "4 3 2 1 \n",
            "5 4 3 2 1 \n"
          ]
        }
      ]
    },
    {
      "cell_type": "code",
      "source": [
        "# Another reverse number pattern\n",
        "\n",
        "rows = 5\n",
        "for i in range(0, rows + 1):\n",
        "    for j in range(rows - i, 0, -1):\n",
        "        print(j, end=' ')\n",
        "    print()"
      ],
      "metadata": {
        "colab": {
          "base_uri": "https://localhost:8080/"
        },
        "id": "jwqFKx84cmGh",
        "outputId": "2fd96ef7-d5f3-48a3-d34b-39bf3d9b1d11"
      },
      "execution_count": 17,
      "outputs": [
        {
          "output_type": "stream",
          "name": "stdout",
          "text": [
            "5 4 3 2 1 \n",
            "4 3 2 1 \n",
            "3 2 1 \n",
            "2 1 \n",
            "1 \n",
            "\n"
          ]
        }
      ]
    },
    {
      "cell_type": "code",
      "source": [
        "# Print reverse number from 10 to 1\n",
        "\n",
        "start = 1\n",
        "stop = 2\n",
        "current_num = stop\n",
        "for row in range(2, 6):\n",
        "    for col in range(start, stop):\n",
        "        current_num -= 1\n",
        "        print(current_num, end=' ')\n",
        "    print(\"\")\n",
        "    start = stop\n",
        "    stop += row\n",
        "    current_num = stop"
      ],
      "metadata": {
        "colab": {
          "base_uri": "https://localhost:8080/"
        },
        "id": "aiGFq7Sac4U7",
        "outputId": "056ad454-2803-49b7-e9d9-d8964d29b3a8"
      },
      "execution_count": 18,
      "outputs": [
        {
          "output_type": "stream",
          "name": "stdout",
          "text": [
            "1 \n",
            "3 2 \n",
            "6 5 4 \n",
            "10 9 8 7 \n"
          ]
        }
      ]
    },
    {
      "cell_type": "code",
      "source": [
        "# Number triangle pattern\n",
        "\n",
        "rows = 6\n",
        "for i in range(1, rows):\n",
        "    num = 1\n",
        "    for j in range(rows, 0, -1):\n",
        "        if j > i:\n",
        "            print(\" \", end=' ')\n",
        "        else:\n",
        "            print(num, end=' ')\n",
        "            num += 1\n",
        "    print(\"\")"
      ],
      "metadata": {
        "colab": {
          "base_uri": "https://localhost:8080/"
        },
        "id": "0Hinoe8LdjVB",
        "outputId": "ba57ee49-e938-408b-910a-db80ddd0272a"
      },
      "execution_count": 19,
      "outputs": [
        {
          "output_type": "stream",
          "name": "stdout",
          "text": [
            "          1 \n",
            "        1 2 \n",
            "      1 2 3 \n",
            "    1 2 3 4 \n",
            "  1 2 3 4 5 \n"
          ]
        }
      ]
    },
    {
      "cell_type": "code",
      "source": [
        "# Pascal’s triangle pattern using numbers\n",
        "\n",
        "def print_pascal_triangle(size):\n",
        "    for i in range(0, size):\n",
        "        for j in range(0, i + 1):\n",
        "            print(decide_number(i, j), end=\" \")\n",
        "        print()\n",
        "\n",
        "\n",
        "def decide_number(n, k):\n",
        "    num = 1\n",
        "    if k > n - k:\n",
        "        k = n - k\n",
        "    for i in range(0, k):\n",
        "        num = num * (n - i)\n",
        "        num = num // (i + 1)\n",
        "    return num\n",
        "\n",
        "# set rows\n",
        "rows = 7\n",
        "print_pascal_triangle(rows)"
      ],
      "metadata": {
        "colab": {
          "base_uri": "https://localhost:8080/"
        },
        "id": "WrEHLAexehm-",
        "outputId": "b8a8bd84-8d7e-471f-e3be-b1019a251dce"
      },
      "execution_count": 20,
      "outputs": [
        {
          "output_type": "stream",
          "name": "stdout",
          "text": [
            "1 \n",
            "1 1 \n",
            "1 2 1 \n",
            "1 3 3 1 \n",
            "1 4 6 4 1 \n",
            "1 5 10 10 5 1 \n",
            "1 6 15 20 15 6 1 \n"
          ]
        }
      ]
    },
    {
      "cell_type": "code",
      "source": [
        "# Square pattern with numbers\n",
        "\n",
        "rows = 5\n",
        "for i in range(1, rows + 1):\n",
        "    for j in range(1, rows + 1):\n",
        "        if j <= i:\n",
        "            print(i, end=' ')\n",
        "        else:\n",
        "            print(j, end=' ')\n",
        "    print()"
      ],
      "metadata": {
        "colab": {
          "base_uri": "https://localhost:8080/"
        },
        "id": "TqYzSGzMeutN",
        "outputId": "75f1303d-71e6-40a3-c36c-bd5b21b018f0"
      },
      "execution_count": 21,
      "outputs": [
        {
          "output_type": "stream",
          "name": "stdout",
          "text": [
            "1 2 3 4 5 \n",
            "2 2 3 4 5 \n",
            "3 3 3 4 5 \n",
            "4 4 4 4 5 \n",
            "5 5 5 5 5 \n"
          ]
        }
      ]
    }
  ]
}